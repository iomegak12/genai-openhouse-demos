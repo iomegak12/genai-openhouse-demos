{
  "nbformat": 4,
  "nbformat_minor": 0,
  "metadata": {
    "colab": {
      "provenance": [],
      "machine_shape": "hm",
      "gpuType": "L4"
    },
    "kernelspec": {
      "name": "python3",
      "display_name": "Python 3"
    },
    "language_info": {
      "name": "python"
    },
    "accelerator": "GPU"
  },
  "cells": [
    {
      "cell_type": "code",
      "execution_count": 1,
      "metadata": {
        "colab": {
          "base_uri": "https://localhost:8080/"
        },
        "id": "W1ku7RUYINko",
        "outputId": "f7bad643-01ff-48d3-bf62-80d84611bb33"
      },
      "outputs": [
        {
          "output_type": "execute_result",
          "data": {
            "text/plain": [
              "True"
            ]
          },
          "metadata": {},
          "execution_count": 1
        }
      ],
      "source": [
        "import torch\n",
        "\n",
        "torch.cuda.is_available()"
      ]
    },
    {
      "cell_type": "code",
      "source": [
        "torch.cuda.mem_get_info()"
      ],
      "metadata": {
        "colab": {
          "base_uri": "https://localhost:8080/"
        },
        "id": "xG5LgFZfKiUr",
        "outputId": "d49db709-7844-4920-c877-16a606ade19a"
      },
      "execution_count": 2,
      "outputs": [
        {
          "output_type": "execute_result",
          "data": {
            "text/plain": [
              "(17587175424, 23802544128)"
            ]
          },
          "metadata": {},
          "execution_count": 2
        }
      ]
    },
    {
      "cell_type": "code",
      "source": [
        "%pip install langchain langchain-core langchain-community langchain-ollama -qU"
      ],
      "metadata": {
        "id": "OA_3XAzpKqqe"
      },
      "execution_count": 4,
      "outputs": []
    },
    {
      "cell_type": "code",
      "source": [
        "from langchain_ollama import ChatOllama\n",
        "\n",
        "model_name = \"mistral\"\n",
        "llm = ChatOllama(\n",
        "    temperature = 0,\n",
        "    max_tokens = 2000,\n",
        "    model = model_name\n",
        ")"
      ],
      "metadata": {
        "id": "fcUHT0UeK3oe"
      },
      "execution_count": 6,
      "outputs": []
    },
    {
      "cell_type": "code",
      "source": [
        "from langchain_core.messages import AIMessage, HumanMessage\n",
        "\n",
        "messages = [\n",
        "    AIMessage(content=\"You are a helpful assistant.\"),\n",
        "    HumanMessage(content = \"I Love Programming!\")\n",
        "]"
      ],
      "metadata": {
        "id": "JgsbTfAoLQCf"
      },
      "execution_count": 7,
      "outputs": []
    },
    {
      "cell_type": "code",
      "source": [
        "output = llm.invoke(messages)"
      ],
      "metadata": {
        "id": "ONkG_42nLmy6"
      },
      "execution_count": 8,
      "outputs": []
    },
    {
      "cell_type": "code",
      "source": [
        "output.content"
      ],
      "metadata": {
        "colab": {
          "base_uri": "https://localhost:8080/",
          "height": 54
        },
        "id": "5uhlsi_eLq5G",
        "outputId": "49b0e6f0-0ac4-47b1-8e10-8b9a52cce3b3"
      },
      "execution_count": 10,
      "outputs": [
        {
          "output_type": "execute_result",
          "data": {
            "text/plain": [
              "\" That's great to hear! Programming can be a rewarding and creative pursuit. If you have any questions or need help with programming, feel free to ask. I'm here to assist you. What specific topic or problem are you working on?\""
            ],
            "application/vnd.google.colaboratory.intrinsic+json": {
              "type": "string"
            }
          },
          "metadata": {},
          "execution_count": 10
        }
      ]
    },
    {
      "cell_type": "code",
      "source": [
        "from langchain.prompts import ChatPromptTemplate\n",
        "\n",
        "prompt = ChatPromptTemplate.from_messages(\n",
        "    [\n",
        "        (\"system\", \"You are a helpful assistant.\"),\n",
        "        (\"human\", \"{input}\")\n",
        "    ]\n",
        ")\n",
        "\n",
        "chain = prompt | llm\n",
        "\n",
        "output = chain.invoke({\"input\": \"I love programming!\"})\n",
        "\n"
      ],
      "metadata": {
        "id": "lYC2Nb6PLzXf"
      },
      "execution_count": 11,
      "outputs": []
    },
    {
      "cell_type": "code",
      "source": [
        "output.content"
      ],
      "metadata": {
        "colab": {
          "base_uri": "https://localhost:8080/",
          "height": 54
        },
        "id": "m9Is_64QMDeC",
        "outputId": "7a71226d-b5ba-4c25-a269-a78e3a3ba143"
      },
      "execution_count": 12,
      "outputs": [
        {
          "output_type": "execute_result",
          "data": {
            "text/plain": [
              "\" That's great to hear! I can certainly help you with various programming-related questions or tasks. Whether you need help understanding a concept, debugging code, or learning about new tools and libraries, feel free to ask. If you have any specific area or language in mind, let me know so I can tailor my responses accordingly. Happy coding!\""
            ],
            "application/vnd.google.colaboratory.intrinsic+json": {
              "type": "string"
            }
          },
          "metadata": {},
          "execution_count": 12
        }
      ]
    },
    {
      "cell_type": "code",
      "source": [
        "from typing import List\n",
        "\n",
        "from langchain_core.tools import tool\n",
        "\n",
        "@tool\n",
        "def validate_user(user_id: int, addresses: List[str]) -> bool:\n",
        "  \"\"\"\n",
        "  This routine validates user information using historical addresses\n",
        "\n",
        "  Args:\n",
        "\n",
        "    user_id (int): The User ID\n",
        "    addresses (List[str]): Previously living / stayed addresses as a list of strings\n",
        "  \"\"\"\n",
        "\n",
        "  print(user_id)\n",
        "  print(address for address in addresses)\n",
        "\n",
        "  return True"
      ],
      "metadata": {
        "id": "Dx6Z2XBuMJXm"
      },
      "execution_count": 13,
      "outputs": []
    },
    {
      "cell_type": "code",
      "source": [
        "llm = ChatOllama(\n",
        "    temperature = 0,\n",
        "    max_tokens = 2000,\n",
        "    model = model_name,\n",
        "    verbose = True\n",
        ").bind_tools([validate_user])"
      ],
      "metadata": {
        "id": "X-IuTj5JMpry"
      },
      "execution_count": 19,
      "outputs": []
    },
    {
      "cell_type": "code",
      "source": [
        "question = \"Could you please validate the user 7349? They previuosly stayed in the fake street, MX, USA and malcome street, CA, USA\"\n",
        "\n",
        "output = llm.invoke(question)"
      ],
      "metadata": {
        "id": "Z2zyroLlMxsF"
      },
      "execution_count": 20,
      "outputs": []
    },
    {
      "cell_type": "code",
      "source": [
        "output.tool_calls"
      ],
      "metadata": {
        "colab": {
          "base_uri": "https://localhost:8080/"
        },
        "id": "OELh1pfKNDtE",
        "outputId": "66664c2d-efdc-40a2-cf22-a3a8e7b8e214"
      },
      "execution_count": 21,
      "outputs": [
        {
          "output_type": "execute_result",
          "data": {
            "text/plain": [
              "[{'name': 'validate_user',\n",
              "  'args': {'addresses': ['fake street, MX, USA', 'malcom street, CA, USA'],\n",
              "   'user_id': 7349},\n",
              "  'id': 'e129e4a6-e1f3-4a4e-8add-cbecee112ae3',\n",
              "  'type': 'tool_call'},\n",
              " {'name': 'validate_user',\n",
              "  'args': {'addresses': ['fake street, MX, USA', 'malcom street, CA, USA'],\n",
              "   'user_id': 7349},\n",
              "  'id': '9b7a9180-231d-49a7-b335-7338cfe7c13e',\n",
              "  'type': 'tool_call'}]"
            ]
          },
          "metadata": {},
          "execution_count": 21
        }
      ]
    },
    {
      "cell_type": "code",
      "source": [
        "output.content"
      ],
      "metadata": {
        "colab": {
          "base_uri": "https://localhost:8080/",
          "height": 36
        },
        "id": "Pe4Ajs6ENdWE",
        "outputId": "43968401-a01a-40ef-8ba8-87a2c1605230"
      },
      "execution_count": 22,
      "outputs": [
        {
          "output_type": "execute_result",
          "data": {
            "text/plain": [
              "''"
            ],
            "application/vnd.google.colaboratory.intrinsic+json": {
              "type": "string"
            }
          },
          "metadata": {},
          "execution_count": 22
        }
      ]
    },
    {
      "cell_type": "code",
      "source": [
        "output"
      ],
      "metadata": {
        "colab": {
          "base_uri": "https://localhost:8080/"
        },
        "id": "QHklGOCrNptF",
        "outputId": "8c87f6be-5d30-4f1f-9ad3-66345ce4861b"
      },
      "execution_count": 23,
      "outputs": [
        {
          "output_type": "execute_result",
          "data": {
            "text/plain": [
              "AIMessage(content='', additional_kwargs={}, response_metadata={'model': 'mistral', 'created_at': '2024-10-06T09:43:21.762553737Z', 'message': {'role': 'assistant', 'content': '', 'tool_calls': [{'function': {'name': 'validate_user', 'arguments': {'addresses': ['fake street, MX, USA', 'malcom street, CA, USA'], 'user_id': 7349}}}, {'function': {'name': 'validate_user', 'arguments': {'addresses': ['fake street, MX, USA', 'malcom street, CA, USA'], 'user_id': 7349}}}]}, 'done_reason': 'stop', 'done': True, 'total_duration': 2393178989, 'load_duration': 7454444, 'prompt_eval_count': 160, 'prompt_eval_duration': 24556000, 'eval_count': 117, 'eval_duration': 2319730000}, id='run-b8d5c2b3-2709-4324-9756-f0b53723896c-0', tool_calls=[{'name': 'validate_user', 'args': {'addresses': ['fake street, MX, USA', 'malcom street, CA, USA'], 'user_id': 7349}, 'id': 'e129e4a6-e1f3-4a4e-8add-cbecee112ae3', 'type': 'tool_call'}, {'name': 'validate_user', 'args': {'addresses': ['fake street, MX, USA', 'malcom street, CA, USA'], 'user_id': 7349}, 'id': '9b7a9180-231d-49a7-b335-7338cfe7c13e', 'type': 'tool_call'}], usage_metadata={'input_tokens': 160, 'output_tokens': 117, 'total_tokens': 277})"
            ]
          },
          "metadata": {},
          "execution_count": 23
        }
      ]
    }
  ]
}