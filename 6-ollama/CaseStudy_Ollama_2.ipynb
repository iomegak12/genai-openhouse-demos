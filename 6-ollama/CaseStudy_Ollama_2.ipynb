{
  "nbformat": 4,
  "nbformat_minor": 0,
  "metadata": {
    "colab": {
      "provenance": [],
      "machine_shape": "hm",
      "gpuType": "L4"
    },
    "kernelspec": {
      "name": "python3",
      "display_name": "Python 3"
    },
    "language_info": {
      "name": "python"
    },
    "accelerator": "GPU"
  },
  "cells": [
    {
      "cell_type": "code",
      "execution_count": null,
      "metadata": {
        "id": "L1Pl5qn6OXAt"
      },
      "outputs": [],
      "source": [
        "%pip install transformers langdetect deep-translator torch torchvision torchaudio langchain langchain-community langchain-ollama gradio -q"
      ]
    },
    {
      "cell_type": "code",
      "source": [
        "from langchain_ollama import ChatOllama\n",
        "from langchain.prompts import PromptTemplate"
      ],
      "metadata": {
        "id": "qQAZeuXwPeh8"
      },
      "execution_count": null,
      "outputs": []
    },
    {
      "cell_type": "code",
      "source": [
        "model_name = \"mistral\"\n",
        "llm = ChatOllama(\n",
        "    temperature = 0,\n",
        "    max_tokens = 2000,\n",
        "    model = model_name\n",
        ")\n",
        "\n",
        "template = \"\"\"\n",
        "You're a native internal AI assistant. Help users with their important tasks, like a professor in a particular field.\n",
        "\n",
        "Query: {query}\n",
        "\"\"\"\n",
        "\n",
        "prompt = PromptTemplate(\n",
        "    input_variables = [\"query\"],\n",
        "    template = template\n",
        ")"
      ],
      "metadata": {
        "id": "_OoZB4EXPwFd"
      },
      "execution_count": null,
      "outputs": []
    },
    {
      "cell_type": "code",
      "source": [
        "chain = prompt | llm"
      ],
      "metadata": {
        "id": "fkqalPydP_Yo"
      },
      "execution_count": null,
      "outputs": []
    },
    {
      "cell_type": "code",
      "source": [
        "from langdetect import detect\n",
        "from deep_translator import GoogleTranslator\n",
        "\n",
        "class Translation:\n",
        "  def __init__(self, text, destination):\n",
        "    self.text = text\n",
        "    self.destination = destination\n",
        "\n",
        "    try:\n",
        "      self.original = detect(self.text)\n",
        "    except Exception as error:\n",
        "      print(f\"Error Occurred, Details : {error}\")\n",
        "      self.original = \"auto\"\n",
        "\n",
        "  def translate(self):\n",
        "    translator = GoogleTranslator(source=self.original, target=self.destination)\n",
        "    translation = translator.translate(self.text)\n",
        "\n",
        "    return translation"
      ],
      "metadata": {
        "id": "evkhR_yfQCj5"
      },
      "execution_count": null,
      "outputs": []
    },
    {
      "cell_type": "code",
      "source": [
        "import gradio as gr"
      ],
      "metadata": {
        "id": "OdsfwKKHQd0u"
      },
      "execution_count": null,
      "outputs": []
    },
    {
      "cell_type": "code",
      "source": [
        "def reply(message, history):\n",
        "  txt = Translation(message, \"en\")\n",
        "\n",
        "  if txt.original == \"en\":\n",
        "    response = chain.invoke({\n",
        "        \"query\": message\n",
        "    })\n",
        "\n",
        "    return response\n",
        "  else:\n",
        "    translation = txt.translate()\n",
        "\n",
        "    response = chain.invoke({\n",
        "        \"query\": translation\n",
        "    })\n",
        "\n",
        "    t = Translation(response.content, txt.original)\n",
        "    final_response = t.translate()\n",
        "\n",
        "    return final_response"
      ],
      "metadata": {
        "id": "fBkzyXoIQhhu"
      },
      "execution_count": 26,
      "outputs": []
    },
    {
      "cell_type": "code",
      "source": [
        "question = \"What is Deep Learning?\"\n",
        "\n",
        "result = reply(question, history = [])"
      ],
      "metadata": {
        "id": "XgALjhwLUIMH"
      },
      "execution_count": null,
      "outputs": []
    },
    {
      "cell_type": "code",
      "source": [
        "result.content"
      ],
      "metadata": {
        "id": "CD6tqsjCUTCY"
      },
      "execution_count": null,
      "outputs": []
    },
    {
      "cell_type": "code",
      "source": [
        "question = \"ரியல் எஸ்டேட்டில் அதிக பணம் சம்பாதிப்பது எப்படி?\"\n",
        "\n",
        "result = reply(question, history = [])\n",
        "\n",
        "result"
      ],
      "metadata": {
        "colab": {
          "base_uri": "https://localhost:8080/",
          "height": 272
        },
        "id": "mz-iahXfUcb6",
        "outputId": "ccca31d7-1473-48e4-89eb-b3da31f7b43d"
      },
      "execution_count": 27,
      "outputs": [
        {
          "output_type": "execute_result",
          "data": {
            "text/plain": [
              "'ரியல் எஸ்டேட் துறையில் உங்கள் வருமானத்தை அதிகரிக்க, பின்வரும் உத்திகளைக் கவனியுங்கள்:\\n\\n1. ரியல் எஸ்டேட்டில் முதலீடு செய்யுங்கள்: சொத்துக்களை வாங்கி, செயலற்ற வருமானத்திற்காக வாடகைக்கு விடுங்கள். சந்தை மதிப்பு அதிகரித்தால் நீங்கள் சொத்துக்களை லாபத்தில் விற்கலாம்.\\n\\n2. ரியல் எஸ்டேட் மேம்பாடு: புதிய வீடுகளைக் கட்டுவதன் மூலமோ அல்லது ஏற்கனவே உள்ளவற்றைப் புதுப்பித்து அதிக விலைக்கு விற்பதன் மூலமோ சொத்துக்களை அபிவிருத்தி செய்யுங்கள். இதற்கு அதிக மூலதனம் தேவை, ஆனால் அதிக வருமானம் கிடைக்கும்.\\n\\n3. ரியல் எஸ்டேட் புரட்டல்: குறைவாக வாங்கவும், புதுப்பிக்கவும், அதிகமாக விற்கவும். இந்த மூலோபாயம் பழுதுபார்ப்பு அல்லது புதுப்பிப்புகள் தேவைப்படும் சொத்துக்களை வாங்குதல், அவற்றை சரிசெய்தல் மற்றும் லாபத்திற்காக விரைவாக விற்பது ஆகியவை அடங்கும்.\\n\\n4. ரியல் எஸ்டேட் மொத்த விற்பனை: குறைவான மதிப்புள்ள சொத்துகளைக் கண்டறிந்து, அவற்றை வாங்குவதற்கான ஒப்பந்தத்தை பேச்சுவார்த்தை நடத்தவும், பின்னர் ஒப்பந்தத்தை மற்றொரு முதலீட்டாளருக்கு கட்டணமாக வழங்கவும்.\\n\\n5. ரியல் எஸ்டேட் மேலாண்மை: கட்டணத்திற்கு ஈடாக மற்றவர்களுக்கு வாடகை சொத்துக்களை நிர்வகிக்கவும். இது முழு நேர அல்லது பகுதி நேர அடிப்படையில் செய்யப்படலாம்.\\n\\n6. ரியல் எஸ்டேட் புரோக்கரேஜ்: ரியல் எஸ்டேட் தரகராக மாறுங்கள் மற்றும் சொத்துக்களை விற்பதன் மூலம் கமிஷன்களைப் பெறுங்கள். நீங்கள் உரிமத் தேர்வில் தேர்ச்சி பெற வேண்டும் மற்றும் பிற தேவைகளைப் பூர்த்தி செய்ய வேண்டும், ஆனால் இது ஒரு இலாபகரமான தொழிலாக இருக்கலாம்.\\n\\n7. ரியல் எஸ்டேட் கல்வி: ரியல் எஸ்டேட் முதலீடு அல்லது ரியல் எஸ்டேட் முகவராக மாறுவது பற்றி மற்றவர்களுக்குக் கற்றுக் கொடுங்கள். ஆன்லைன் படிப்புகள், கருத்தரங்குகள் அல்லது பயிற்சி சேவைகள் மூலம் இதைச் செய்யலாம்.\\n\\n8. ரியல் எஸ்டேட் கடன்: வட்டி செலுத்துதலுக்கு ஈடாக ரியல் எஸ்டேட் முதலீட்டாளர்களுக்கு கடன்களை வழங்குதல். இதற்கு கடன் வழங்கும் சட்டங்கள் மற்றும் விதிமுறைகள் பற்றிய அறிவு தேவை.\\n\\n9. ரியல் எஸ்டேட் சிண்டிகேஷன்: உங்களால் முடிந்ததை விட பெரிய சொத்துக்கள் அல்லது அதிக சொத்துக்களை வாங்குவதற்கு மற்ற முதலீட்டாளர்களுடன் ஆதாரங்களை சேகரிக்கவும்.\\n\\n10. வணிக ரியல் எஸ்டேட்: அலுவலக கட்டிடங்கள், சில்லறை விற்பனை இடங்கள் அல்லது தொழில்துறை சொத்துக்கள் போன்ற வணிக சொத்துகளில் முதலீடு செய்யுங்கள். இவை குடியிருப்புகளை விட அதிக வாடகை வருமானத்தை அளிக்கும்.'"
            ],
            "application/vnd.google.colaboratory.intrinsic+json": {
              "type": "string"
            }
          },
          "metadata": {},
          "execution_count": 27
        }
      ]
    },
    {
      "cell_type": "code",
      "source": [
        "demo = gr.ChatInterface(fn=reply, title = \"Multi-Lingual ChatBot\")\n",
        "\n",
        "demo.launch(debug=False, share=False)"
      ],
      "metadata": {
        "id": "yHMFc4K3REga"
      },
      "execution_count": null,
      "outputs": []
    }
  ]
}