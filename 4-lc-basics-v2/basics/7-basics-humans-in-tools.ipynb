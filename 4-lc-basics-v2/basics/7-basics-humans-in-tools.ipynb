{
 "cells": [
  {
   "cell_type": "code",
   "execution_count": null,
   "metadata": {},
   "outputs": [],
   "source": [
    "%pip install -qU langchain langchain-community langchain-openai python-dotenv numexpr"
   ]
  },
  {
   "cell_type": "code",
   "execution_count": 2,
   "metadata": {},
   "outputs": [],
   "source": [
    "import os\n",
    "from dotenv import load_dotenv\n",
    "from langchain_openai import ChatOpenAI\n",
    "from langchain_core.tools import tool\n",
    "from langchain_core.messages import AIMessage\n",
    "from langchain_core.runnables import Runnable"
   ]
  },
  {
   "cell_type": "code",
   "execution_count": 3,
   "metadata": {},
   "outputs": [],
   "source": [
    "load_dotenv()\n",
    "\n",
    "openai_api_key = os.environ[\"OPENAI_API_KEY\"]\n",
    "model_name = \"gpt-4o\"\n",
    "llm = ChatOpenAI(\n",
    "    model = model_name,\n",
    "    openai_api_key = openai_api_key,\n",
    "    temperature = 1,\n",
    "    max_tokens = 1000\n",
    ")"
   ]
  },
  {
   "cell_type": "code",
   "execution_count": 4,
   "metadata": {},
   "outputs": [],
   "source": [
    "@tool\n",
    "def count_emails(last_number_of_days: int) -> int:\n",
    "    \"\"\"\n",
    "    This tool is useful to counting emails from the mailbox, based on the last or previous number of days\n",
    "    \"\"\"\n",
    "\n",
    "    return last_number_of_days * 2\n",
    "\n",
    "\n",
    "@tool\n",
    "def send_email(email_message: str, recipient: str) -> str:\n",
    "    \"\"\"\n",
    "    This tool is useful when you need to send an email to a recipient\n",
    "    \"\"\"\n",
    "\n",
    "    return f\"Successfully Sent the email to {recipient}\"\n"
   ]
  },
  {
   "cell_type": "code",
   "execution_count": 22,
   "metadata": {},
   "outputs": [],
   "source": [
    "tools = [count_emails, send_email]\n",
    "llm_with_tools = llm.bind_tools(tools)"
   ]
  },
  {
   "cell_type": "code",
   "execution_count": 23,
   "metadata": {},
   "outputs": [],
   "source": [
    "import json\n",
    "\n",
    "\n",
    "def human_approval(message: AIMessage) -> Runnable:\n",
    "    tool_strings = \"\\n\\n\".join(\n",
    "        json.dumps(tool_call, indent=2) for tool_call in message.tool_calls\n",
    "    )\n",
    "\n",
    "    input_message = f\"\"\"\n",
    "        Do you want to approve the following tool invocation {tool_strings} \\n\\n\n",
    "\n",
    "        Please enter yes / Y, anything else shall reject the execution of those tools\n",
    "    \"\"\"\n",
    "\n",
    "    response = input(input_message)\n",
    "\n",
    "    if (response.lower() not in (\"yes\", \"y\")):\n",
    "        raise ValueError(\"Tool Invocation Not Approved!\")\n",
    "\n",
    "    return message\n",
    "\n",
    "\n",
    "def call_tools(message: AIMessage) -> Runnable:\n",
    "    \"\"\"\n",
    "    Simple Sequential Tool Calling Helper Function to the LLM\n",
    "    \"\"\"\n",
    "    tool_map = {tool.name: tool for tool in tools}\n",
    "    tool_calls = message.tool_calls.copy()\n",
    "\n",
    "    for tool_call in tool_calls:\n",
    "        tool_call[\"output\"] = tool_map[tool_call[\"name\"]].invoke(\n",
    "            tool_call[\"args\"])\n",
    "    \n",
    "    return tool_calls"
   ]
  },
  {
   "cell_type": "code",
   "execution_count": 24,
   "metadata": {},
   "outputs": [],
   "source": [
    "chain = llm_with_tools | human_approval | call_tools"
   ]
  },
  {
   "cell_type": "code",
   "execution_count": null,
   "metadata": {},
   "outputs": [],
   "source": [
    "question = \"How many emails do i have in my mailbox for the last 10 days? and send me email the report about that, to manager@it-info.com.\"\n",
    "\n",
    "response = chain.invoke(question)\n",
    "\n",
    "print(response)"
   ]
  }
 ],
 "metadata": {
  "kernelspec": {
   "display_name": "env",
   "language": "python",
   "name": "python3"
  },
  "language_info": {
   "codemirror_mode": {
    "name": "ipython",
    "version": 3
   },
   "file_extension": ".py",
   "mimetype": "text/x-python",
   "name": "python",
   "nbconvert_exporter": "python",
   "pygments_lexer": "ipython3",
   "version": "3.12.0"
  }
 },
 "nbformat": 4,
 "nbformat_minor": 2
}
