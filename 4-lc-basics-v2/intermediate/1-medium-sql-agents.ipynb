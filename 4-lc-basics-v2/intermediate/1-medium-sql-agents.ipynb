{
 "cells": [
  {
   "cell_type": "code",
   "execution_count": null,
   "metadata": {},
   "outputs": [],
   "source": [
    "%pip install -qU langchain langchain-core langchain-community langchain-openai langgraph python-dotenv"
   ]
  },
  {
   "cell_type": "code",
   "execution_count": 2,
   "metadata": {},
   "outputs": [],
   "source": [
    "import os\n",
    "from dotenv import load_dotenv\n",
    "from langchain_openai import ChatOpenAI\n",
    "from langchain_community.utilities import SQLDatabase\n",
    "from langchain.chains import create_sql_query_chain"
   ]
  },
  {
   "cell_type": "code",
   "execution_count": 3,
   "metadata": {},
   "outputs": [],
   "source": [
    "load_dotenv()\n",
    "\n",
    "openai_api_key = os.environ[\"OPENAI_API_KEY\"]\n",
    "model_name = \"gpt-3.5-turbo-0125\"\n",
    "llm = ChatOpenAI(\n",
    "    model=model_name,\n",
    "    openai_api_key=openai_api_key,\n",
    "    temperature=0.1,\n",
    "    max_tokens=1000\n",
    ")"
   ]
  },
  {
   "cell_type": "code",
   "execution_count": 4,
   "metadata": {},
   "outputs": [],
   "source": [
    "db_file_path = \"./chinook.db\"\n",
    "db = SQLDatabase.from_uri(f\"sqlite:///{db_file_path}\")"
   ]
  },
  {
   "cell_type": "code",
   "execution_count": null,
   "metadata": {},
   "outputs": [],
   "source": [
    "print(db.dialect)\n",
    "print(db.get_usable_table_names())"
   ]
  },
  {
   "cell_type": "code",
   "execution_count": null,
   "metadata": {},
   "outputs": [],
   "source": [
    "query = \"SELECT * FROM Artist LIMIT 10;\"\n",
    "\n",
    "db.run(query)"
   ]
  },
  {
   "cell_type": "code",
   "execution_count": 8,
   "metadata": {},
   "outputs": [],
   "source": [
    "chain = create_sql_query_chain(llm, db)"
   ]
  },
  {
   "cell_type": "code",
   "execution_count": null,
   "metadata": {},
   "outputs": [],
   "source": [
    "response = chain.invoke({\n",
    "    \"question\": \"How many employees are there in the organization?\"\n",
    "})\n",
    "\n",
    "print(response)"
   ]
  },
  {
   "cell_type": "code",
   "execution_count": null,
   "metadata": {},
   "outputs": [],
   "source": [
    "db.run(response)"
   ]
  },
  {
   "cell_type": "code",
   "execution_count": 11,
   "metadata": {},
   "outputs": [],
   "source": [
    "from langchain_community.tools.sql_database.tool import QuerySQLDataBaseTool\n",
    "from langchain_core.tools import tool\n",
    "\n",
    "\n",
    "@tool\n",
    "def parse(query_string: str) -> str:\n",
    "    \"\"\"\n",
    "    Parses Generated SQL Statement\n",
    "    \"\"\"\n",
    "\n",
    "    splitted = query_string.split(\":\")\n",
    "\n",
    "    if (len(splitted) >= 2):\n",
    "        query = splitted[1]\n",
    "    else:\n",
    "        query = query_string\n",
    "\n",
    "    return query"
   ]
  },
  {
   "cell_type": "code",
   "execution_count": null,
   "metadata": {},
   "outputs": [],
   "source": [
    "# GPT 4 Generated SQL Statement\n",
    "\n",
    "query = \"\"\"\n",
    "QUERY: SELECT COUNT(\"EmployeeId\") AS \"TotalEmployees\"\n",
    "FROM \"Employee\"\n",
    "\"\"\"\n",
    "\n",
    "print(parse.invoke(query))\n",
    "\n",
    "# GPT 3.5 Generated SQL Statement\n",
    "query = \"\"\"\n",
    "SELECT COUNT(\"EmployeeId\") AS \"TotalEmployees\"\n",
    "FROM \"Employee\"\n",
    "\"\"\"\n",
    "\n",
    "print(parse.invoke(query))"
   ]
  },
  {
   "cell_type": "code",
   "execution_count": 17,
   "metadata": {},
   "outputs": [],
   "source": [
    "execute_query = QuerySQLDataBaseTool(db = db)\n",
    "write_query = create_sql_query_chain(llm, db)\n",
    "\n",
    "chain = write_query | parse | execute_query"
   ]
  },
  {
   "cell_type": "code",
   "execution_count": null,
   "metadata": {},
   "outputs": [],
   "source": [
    "question = \"How many employees are there in the organization?\"\n",
    "\n",
    "response = chain.invoke({\n",
    "    \"question\": question\n",
    "})\n",
    "\n",
    "print(response)"
   ]
  },
  {
   "cell_type": "code",
   "execution_count": 19,
   "metadata": {},
   "outputs": [],
   "source": [
    "from langchain_core.prompts import PromptTemplate\n",
    "from langchain_core.runnables import RunnablePassthrough\n",
    "from langchain_core.output_parsers import StrOutputParser\n",
    "from operator import itemgetter\n",
    "\n",
    "answer_prompt = PromptTemplate.from_template(\n",
    "    \"\"\"\n",
    "    Given the following user question, corresponding SQL Query, and SQL Result, answer the user question.\n",
    "\n",
    "    Question: {question}\n",
    "    SQL Query: {query}\n",
    "    Result: {result}\n",
    "    Answer:\n",
    "    \"\"\"\n",
    ")\n",
    "\n",
    "chain = RunnablePassthrough.assign(query = write_query) \\\n",
    "    .assign(result = itemgetter(\"query\") | parse | execute_query) | \\\n",
    "    answer_prompt | llm | StrOutputParser()"
   ]
  },
  {
   "cell_type": "code",
   "execution_count": null,
   "metadata": {},
   "outputs": [],
   "source": [
    "question = \"How many employees are there in the organization?\"\n",
    "\n",
    "response = chain.invoke({\n",
    "    \"question\": question\n",
    "})\n",
    "\n",
    "print(response)"
   ]
  },
  {
   "cell_type": "code",
   "execution_count": null,
   "metadata": {},
   "outputs": [],
   "source": [
    "from langchain_community.agent_toolkits import SQLDatabaseToolkit\n",
    "\n",
    "toolkit = SQLDatabaseToolkit(db = db, llm = llm)\n",
    "\n",
    "tools = toolkit.get_tools()\n",
    "\n",
    "tools"
   ]
  },
  {
   "cell_type": "code",
   "execution_count": 23,
   "metadata": {},
   "outputs": [],
   "source": [
    "from langgraph.prebuilt import create_react_agent\n",
    "from langchain_core.messages import HumanMessage, SystemMessage"
   ]
  },
  {
   "cell_type": "code",
   "execution_count": null,
   "metadata": {},
   "outputs": [],
   "source": [
    "SQL_PREFIX = \"\"\"\n",
    "You are an agent designed to interact with a SQL database.\n",
    "Given an input question, create a syntactically correct SQLite query to run, then look at the results of the query and return the answer.\n",
    "Unless the user specifies a specific number of examples they wish to obtain, always limit your query to at most 5 results.\n",
    "You can order the results by a relevant column to return the most interesting examples in the database.\n",
    "Never query for all the columns from a specific table, only ask for the relevant columns given the question.\n",
    "You have access to tools for interacting with the database.\n",
    "Only use the below tools. Only use the information returned by the below tools to construct your final answer.\n",
    "You MUST double check your query before executing it. If you get an error while executing a query, rewrite the query and try again.\n",
    "\n",
    "DO NOT make any DML statements (INSERT, UPDATE, DELETE, DROP etc.) to the database.\n",
    "\n",
    "To start you should ALWAYS look at the tables in the database to see what you can query.\n",
    "Do NOT skip this step.\n",
    "Then you should query the schema of the most relevant tables.\n",
    "\"\"\"\n",
    "\n",
    "system_message = SystemMessage(content=SQL_PREFIX)\n",
    "agent_executor = create_react_agent(\n",
    "    llm, tools, messages_modifier=system_message\n",
    ")"
   ]
  },
  {
   "cell_type": "code",
   "execution_count": null,
   "metadata": {},
   "outputs": [],
   "source": [
    "for stream in agent_executor.stream({\n",
    "    \"messages\": [\n",
    "        HumanMessage(content=\"which country's customers have spent the most?\")\n",
    "    ]\n",
    "}):\n",
    "    print(stream)\n",
    "    print(\"******\")"
   ]
  },
  {
   "cell_type": "code",
   "execution_count": null,
   "metadata": {},
   "outputs": [],
   "source": [
    "for stream in agent_executor.stream({\n",
    "    \"messages\": [\n",
    "        HumanMessage(content=\"Describe the playlisttrack table.\")\n",
    "    ]\n",
    "}):\n",
    "    print(stream)\n",
    "    print(\"******\")"
   ]
  },
  {
   "cell_type": "code",
   "execution_count": null,
   "metadata": {},
   "outputs": [],
   "source": [
    "for stream in agent_executor.stream({\n",
    "    \"messages\": [\n",
    "        HumanMessage(content=\"Top 5 customers who have spent most buying MPEG Audio, and heavy metal type of playlists.\")\n",
    "    ]\n",
    "}):\n",
    "    print(stream)\n",
    "    print(\"******\")"
   ]
  }
 ],
 "metadata": {
  "kernelspec": {
   "display_name": "env",
   "language": "python",
   "name": "python3"
  },
  "language_info": {
   "codemirror_mode": {
    "name": "ipython",
    "version": 3
   },
   "file_extension": ".py",
   "mimetype": "text/x-python",
   "name": "python",
   "nbconvert_exporter": "python",
   "pygments_lexer": "ipython3",
   "version": "3.12.0"
  }
 },
 "nbformat": 4,
 "nbformat_minor": 2
}
