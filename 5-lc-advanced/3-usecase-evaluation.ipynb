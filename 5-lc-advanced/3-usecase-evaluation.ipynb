{
 "cells": [
  {
   "cell_type": "code",
   "execution_count": 2,
   "metadata": {},
   "outputs": [
    {
     "name": "stdout",
     "output_type": "stream",
     "text": [
      "Note: you may need to restart the kernel to use updated packages.\n"
     ]
    },
    {
     "name": "stderr",
     "output_type": "stream",
     "text": [
      "\n",
      "[notice] A new release of pip is available: 23.2.1 -> 24.2\n",
      "[notice] To update, run: python.exe -m pip install --upgrade pip\n"
     ]
    }
   ],
   "source": [
    "%pip install langchain langchain-core langchain-community langchain-openai python-dotenv faiss-cpu -qU"
   ]
  },
  {
   "cell_type": "code",
   "execution_count": 3,
   "metadata": {},
   "outputs": [],
   "source": [
    "import os\n",
    "from dotenv import load_dotenv\n",
    "from langchain_openai import ChatOpenAI\n",
    "from langchain.prompts import PromptTemplate"
   ]
  },
  {
   "cell_type": "code",
   "execution_count": 4,
   "metadata": {},
   "outputs": [],
   "source": [
    "load_dotenv()\n",
    "\n",
    "model_name = \"gpt-3.5-turbo-0125\"\n",
    "openai_api_key = os.environ[\"OPENAI_API_KEY\"]\n",
    "llm = ChatOpenAI(\n",
    "    model_name = model_name,\n",
    "    temperature = 0.1,\n",
    "    max_tokens = 2000,\n",
    "    openai_api_key = openai_api_key\n",
    ")"
   ]
  },
  {
   "cell_type": "code",
   "execution_count": 5,
   "metadata": {},
   "outputs": [],
   "source": [
    "from langchain.vectorstores import FAISS\n",
    "from langchain.chains import RetrievalQA\n",
    "from langchain.document_loaders import TextLoader\n",
    "from langchain.evaluation.qa import QAEvalChain\n",
    "from langchain_openai import OpenAIEmbeddings"
   ]
  },
  {
   "cell_type": "code",
   "execution_count": 6,
   "metadata": {},
   "outputs": [
    {
     "name": "stdout",
     "output_type": "stream",
     "text": [
      "You have now 1 document!\n",
      "Totally 75040 characters in the document!\n"
     ]
    }
   ],
   "source": [
    "loader = TextLoader(\"./worked.txt\")\n",
    "document = loader.load()\n",
    "\n",
    "print(f\"You have now {len(document)} document!\")\n",
    "print(f\"Totally {len(document[0].page_content)} characters in the document!\")"
   ]
  },
  {
   "cell_type": "code",
   "execution_count": 7,
   "metadata": {},
   "outputs": [],
   "source": [
    "from langchain.text_splitter import RecursiveCharacterTextSplitter\n",
    "\n",
    "text_splitter = RecursiveCharacterTextSplitter(chunk_size = 3000, chunk_overlap = 400)\n",
    "documents = text_splitter.split_documents(document)"
   ]
  },
  {
   "cell_type": "code",
   "execution_count": 8,
   "metadata": {},
   "outputs": [],
   "source": [
    "embeddings = OpenAIEmbeddings(openai_api_key = openai_api_key)\n",
    "document_search = FAISS.from_documents(documents, embeddings)"
   ]
  },
  {
   "cell_type": "code",
   "execution_count": 9,
   "metadata": {},
   "outputs": [],
   "source": [
    "chain = RetrievalQA.from_chain_type(llm = llm, chain_type = \"stuff\", retriever = document_search.as_retriever(), input_key = \"question\")"
   ]
  },
  {
   "cell_type": "code",
   "execution_count": 10,
   "metadata": {},
   "outputs": [],
   "source": [
    "question_answers = [\n",
    "    {\n",
    "        \"question\": \"which company sold the microcomputer kit that his friend built himself?\",\n",
    "        \"answer\": \"Heathkit\"\n",
    "    },\n",
    "    {\n",
    "        \"question\": \"what was the small city he talked about in the city that is the financial capital of USA?\",\n",
    "        \"answer\": \"Yorkville, NY\"\n",
    "    }\n",
    "]"
   ]
  },
  {
   "cell_type": "code",
   "execution_count": 11,
   "metadata": {},
   "outputs": [
    {
     "name": "stderr",
     "output_type": "stream",
     "text": [
      "C:\\Users\\asus\\AppData\\Local\\Temp\\ipykernel_3208\\2904644452.py:1: LangChainDeprecationWarning: The method `Chain.apply` was deprecated in langchain 0.1.0 and will be removed in 1.0. Use :meth:`~batch` instead.\n",
      "  predictions = chain.apply(question_answers)\n"
     ]
    }
   ],
   "source": [
    "predictions = chain.apply(question_answers)"
   ]
  },
  {
   "cell_type": "code",
   "execution_count": 12,
   "metadata": {},
   "outputs": [
    {
     "data": {
      "text/plain": [
       "[{'question': 'which company sold the microcomputer kit that his friend built himself?',\n",
       "  'answer': 'Heathkit',\n",
       "  'result': 'The company that sold the microcomputer kit that his friend built himself was Heathkit.'},\n",
       " {'question': 'what was the small city he talked about in the city that is the financial capital of USA?',\n",
       "  'answer': 'Yorkville, NY',\n",
       "  'result': 'The small city mentioned in the context is Santa Cruz, located in California. The financial capital of the USA is New York City.'}]"
      ]
     },
     "execution_count": 12,
     "metadata": {},
     "output_type": "execute_result"
    }
   ],
   "source": [
    "predictions"
   ]
  },
  {
   "cell_type": "code",
   "execution_count": 14,
   "metadata": {},
   "outputs": [
    {
     "name": "stderr",
     "output_type": "stream",
     "text": [
      "c:\\000 - GenAI - OpenHouse\\demonstrations\\5-lc-advanced\\env\\Lib\\site-packages\\langchain_openai\\chat_models\\base.py:356: UserWarning: Unexpected type for token usage: <class 'NoneType'>\n",
      "  warnings.warn(f\"Unexpected type for token usage: {type(new_usage)}\")\n"
     ]
    }
   ],
   "source": [
    "evaluation_chain = QAEvalChain.from_llm(llm)\n",
    "\n",
    "graded_output = evaluation_chain.evaluate(\n",
    "    question_answers,\n",
    "    predictions,\n",
    "    question_key=\"question\",\n",
    "    prediction_key=\"result\",\n",
    "    answer_key=\"answer\"\n",
    ")"
   ]
  },
  {
   "cell_type": "code",
   "execution_count": 15,
   "metadata": {},
   "outputs": [
    {
     "data": {
      "text/plain": [
       "[{'results': 'CORRECT'}, {'results': 'INCORRECT'}]"
      ]
     },
     "execution_count": 15,
     "metadata": {},
     "output_type": "execute_result"
    }
   ],
   "source": [
    "graded_output"
   ]
  }
 ],
 "metadata": {
  "kernelspec": {
   "display_name": "env",
   "language": "python",
   "name": "python3"
  },
  "language_info": {
   "codemirror_mode": {
    "name": "ipython",
    "version": 3
   },
   "file_extension": ".py",
   "mimetype": "text/x-python",
   "name": "python",
   "nbconvert_exporter": "python",
   "pygments_lexer": "ipython3",
   "version": "3.12.0"
  }
 },
 "nbformat": 4,
 "nbformat_minor": 2
}
